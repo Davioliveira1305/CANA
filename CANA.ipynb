{
  "cells": [
    {
      "cell_type": "markdown",
      "metadata": {
        "id": "view-in-github",
        "colab_type": "text"
      },
      "source": [
        "<a href=\"https://colab.research.google.com/github/Davioliveira1305/CANA/blob/main/CANA.ipynb\" target=\"_parent\"><img src=\"https://colab.research.google.com/assets/colab-badge.svg\" alt=\"Open In Colab\"/></a>"
      ]
    },
    {
      "cell_type": "markdown",
      "source": [
        "#Algoritmos de ordenação e de divisão e conquista"
      ],
      "metadata": {
        "id": "fa4SjPY_Thtv"
      }
    },
    {
      "cell_type": "code",
      "execution_count": null,
      "metadata": {
        "id": "tV112nU4ErHP"
      },
      "outputs": [],
      "source": [
        "def counting_sort(A, k):\n",
        "  C = [0 for i in range(k+1)]\n",
        "  for j in range(0,len(A)):\n",
        "    C[A[j]] = C[A[j]] + 1\n",
        "  for i in range(1,k+1):\n",
        "    C[i] = C[i] + C[i-1]\n",
        "  print(C)"
      ]
    },
    {
      "cell_type": "code",
      "execution_count": null,
      "metadata": {
        "colab": {
          "base_uri": "https://localhost:8080/"
        },
        "id": "gPsCRd9eFGm_",
        "outputId": "88b924a6-5810-4c69-f59f-485072c9dd84"
      },
      "outputs": [
        {
          "name": "stdout",
          "output_type": "stream",
          "text": [
            "[0, 1, 2, 2, 3, 4, 5, 5, 6, 6, 6, 7]\n"
          ]
        }
      ],
      "source": [
        "A = [6,4,2,8,1,11,5]\n",
        "counting_sort(A,11)"
      ]
    },
    {
      "cell_type": "code",
      "source": [
        "def counting_inter(A,k,a,b):\n",
        "  C = [0 for i in range(k+1)]\n",
        "  for j in range(0,len(A)):\n",
        "    C[A[j]] = C[A[j]] + 1\n",
        "  for i in range(1,k+1):\n",
        "    C[i] = C[i] + C[i-1]\n",
        "  if (C[a-1] == -1): return 0\n",
        "  return C[b] - C[a - 1]"
      ],
      "metadata": {
        "id": "AJaHHpo3x1F3"
      },
      "execution_count": null,
      "outputs": []
    },
    {
      "cell_type": "code",
      "source": [
        "A = [5,6,3]\n",
        "print(counting_inter(A,6,1,2))"
      ],
      "metadata": {
        "colab": {
          "base_uri": "https://localhost:8080/"
        },
        "id": "j60LRV37yKd7",
        "outputId": "d42df9ce-ef5a-4632-a3f4-cc84990b96df"
      },
      "execution_count": null,
      "outputs": [
        {
          "output_type": "stream",
          "name": "stdout",
          "text": [
            "0\n"
          ]
        }
      ]
    },
    {
      "cell_type": "markdown",
      "metadata": {
        "id": "ZIf0dxUtSsxW"
      },
      "source": [
        "## Quick-Sort"
      ]
    },
    {
      "cell_type": "code",
      "execution_count": null,
      "metadata": {
        "id": "L_sLpUq-SwDG"
      },
      "outputs": [],
      "source": [
        "  #Algoritmo que realiza a partição do vetor em torno de uma chave\n",
        "  def partition(A, p, r):\n",
        "    pivot = A[r]\n",
        "    i = p - 1\n",
        "    for j in range(p, r):\n",
        "      if A[j] <= pivot:\n",
        "        i = i + 1\n",
        "        A[i], A[j] = A[j], A[i]\n",
        "    A[i + 1], A[r] = A[r], A[i + 1]\n",
        "    return i + 1"
      ]
    },
    {
      "cell_type": "code",
      "source": [
        "B = [3,4,4,6,9]\n",
        "partition(B,0,4)"
      ],
      "metadata": {
        "colab": {
          "base_uri": "https://localhost:8080/"
        },
        "id": "9vaF-Z7rdbMI",
        "outputId": "096254b1-3d50-4fac-87ae-195a4f4837cf"
      },
      "execution_count": null,
      "outputs": [
        {
          "output_type": "stream",
          "name": "stdout",
          "text": [
            "0 0 [3, 4, 4, 6, 9]\n",
            "1 1 [3, 4, 4, 6, 9]\n",
            "2 2 [3, 4, 4, 6, 9]\n",
            "3 3 [3, 4, 4, 6, 9]\n"
          ]
        },
        {
          "output_type": "execute_result",
          "data": {
            "text/plain": [
              "4"
            ]
          },
          "metadata": {},
          "execution_count": 22
        }
      ]
    },
    {
      "cell_type": "code",
      "execution_count": null,
      "metadata": {
        "id": "_snKq4kLVjn9"
      },
      "outputs": [],
      "source": [
        "# Quick-Sort propriamente dito\n",
        "def quicksort(A,p,r):\n",
        "  while p <= r:\n",
        "    q = partition(A,p,r)\n",
        "    print(f'Vetor Particionado = {A}, p = {p}, r = {r}, q = {q}')\n",
        "    quicksort(A,p,q-1)\n",
        "    p = q + 1"
      ]
    },
    {
      "cell_type": "code",
      "execution_count": null,
      "metadata": {
        "colab": {
          "base_uri": "https://localhost:8080/"
        },
        "id": "0o-v8owvUMIq",
        "outputId": "9bb3338f-cf69-48ab-85d3-f4d04a62e697"
      },
      "outputs": [
        {
          "output_type": "stream",
          "name": "stdout",
          "text": [
            "Vetor Particionado = [2, 3, 10, 5, 18, 6, 7], p = 0, r = 6, q = 1\n",
            "Vetor Particionado = [2, 3, 10, 5, 18, 6, 7], p = 0, r = 0, q = 0\n",
            "Vetor Particionado = [2, 3, 5, 6, 7, 10, 18], p = 2, r = 6, q = 4\n",
            "Vetor Particionado = [2, 3, 5, 6, 7, 10, 18], p = 2, r = 3, q = 3\n",
            "Vetor Particionado = [2, 3, 5, 6, 7, 10, 18], p = 2, r = 2, q = 2\n",
            "Vetor Particionado = [2, 3, 5, 6, 7, 10, 18], p = 5, r = 6, q = 6\n",
            "Vetor Particionado = [2, 3, 5, 6, 7, 10, 18], p = 5, r = 5, q = 5\n",
            "Saída com o vetor ordenado: [2, 3, 5, 6, 7, 10, 18]\n"
          ]
        }
      ],
      "source": [
        "A = [5,7,10,2,18,6,3]\n",
        "quicksort(A,0,6)\n",
        "print(f'Saída com o vetor ordenado: {A}')"
      ]
    },
    {
      "cell_type": "markdown",
      "source": [
        "##Merge-Sort"
      ],
      "metadata": {
        "id": "qTPLQXKVYxam"
      }
    },
    {
      "cell_type": "code",
      "source": [
        "import sys\n",
        "def intercala(A, p, q, r):\n",
        "  n1 = q - p + 1\n",
        "  n2 = r - q\n",
        "  L = []\n",
        "  R = []\n",
        "  for i in range(1, n1+1):\n",
        "    L.append(A[p + i -1])\n",
        "  for j in range(1, n2+1):\n",
        "    R.append(A[q + j])\n",
        "  L.append(sys.maxsize)\n",
        "  R.append(sys.maxsize)\n",
        "  i = 0\n",
        "  j = 0\n",
        "  for k in range(p, r+1):\n",
        "    if(L[i] <= R[j]):\n",
        "      A[k] = L[i]\n",
        "      i = i + 1\n",
        "    else:\n",
        "      A[k] = R[j]\n",
        "      j = j + 1\n",
        "\n",
        "def merge_sort(A, p, r):\n",
        "  if p < r:\n",
        "    q = (p + r)//2\n",
        "    merge_sort(A, p, q)\n",
        "    merge_sort(A, q + 1, r)\n",
        "    intercala(A, p, q, r)"
      ],
      "metadata": {
        "id": "fkIjIE7oYzoB"
      },
      "execution_count": null,
      "outputs": []
    },
    {
      "cell_type": "code",
      "source": [
        "A = [8,1,2,4,12,13,10,2,3]\n",
        "merge_sort(A,0,8)\n",
        "print(A)"
      ],
      "metadata": {
        "colab": {
          "base_uri": "https://localhost:8080/"
        },
        "id": "p6ovEGgUZgaX",
        "outputId": "cdd58553-8a75-461b-cba7-f2fda4714c98"
      },
      "execution_count": null,
      "outputs": [
        {
          "output_type": "stream",
          "name": "stdout",
          "text": [
            "[1, 2, 2, 3, 4, 8, 10, 12, 13]\n"
          ]
        }
      ]
    },
    {
      "cell_type": "markdown",
      "source": [
        "**Merge-Sort modificado para descobrir se um determinado vetor possui dois elementos que a soma resulte em um número x.**"
      ],
      "metadata": {
        "id": "ST-KFttfgr2-"
      }
    },
    {
      "cell_type": "code",
      "source": [
        "def intercala_mod(A, p, q, r, x):\n",
        "  n1 = q - p + 1\n",
        "  n2 = r - q\n",
        "  L = []\n",
        "  R = []\n",
        "  for i in range(1, n1+1):\n",
        "    L.append(A[p + i -1])\n",
        "  for j in range(1, n2+1):\n",
        "    R.append(A[q + j])\n",
        "  L.append(sys.maxsize)\n",
        "  R.append(sys.maxsize)\n",
        "  i = 0\n",
        "  j = 0\n",
        "  for k in range(p, r+1):\n",
        "    if(L[i] + R[j] == x): return True\n",
        "    if(L[i] <= R[j]):\n",
        "      A[k] = L[i]\n",
        "      i = i + 1\n",
        "    else:\n",
        "      A[k] = R[j]\n",
        "      j = j + 1\n",
        "\n",
        "\n",
        "\n",
        "def merge_sort_mod(A, p, r, x):\n",
        "  if p < r:\n",
        "    q = (p + r)//2\n",
        "    merge_sort_mod(A, p, q, x)\n",
        "    merge_sort_mod(A, q + 1, r, x)\n",
        "    existe = intercala_mod(A, p, q, r, x)\n",
        "    print(existe)\n",
        "    if(existe):\n",
        "      print(f'Existem dois elementos que somados dão {x}')\n",
        "  return None"
      ],
      "metadata": {
        "id": "WfwKPRrYg7iY"
      },
      "execution_count": null,
      "outputs": []
    },
    {
      "cell_type": "code",
      "source": [
        "A = [8,1,2,4,12,13,10,2,3]\n",
        "print(merge_sort_mod(A,0,8,25))\n",
        "print(A)"
      ],
      "metadata": {
        "colab": {
          "base_uri": "https://localhost:8080/"
        },
        "id": "KugZDnz2iDtT",
        "outputId": "30bd82f8-a296-441a-cbe8-e60436fdec39"
      },
      "execution_count": null,
      "outputs": [
        {
          "output_type": "stream",
          "name": "stdout",
          "text": [
            "None\n",
            "None\n",
            "None\n",
            "None\n",
            "None\n",
            "None\n",
            "None\n",
            "True\n",
            "Existem dois elementos que somados dão 25\n",
            "None\n",
            "[1, 2, 2, 3, 4, 8, 10, 10, 13]\n"
          ]
        }
      ]
    },
    {
      "cell_type": "markdown",
      "source": [
        "##Heap-Sort"
      ],
      "metadata": {
        "id": "oUFouH9jzzVd"
      }
    },
    {
      "cell_type": "code",
      "source": [
        "def max_heapfy(A, i):\n",
        "  esq = 2 * i + 1\n",
        "  dir = 2 * i + 2\n",
        "  if(esq < len(A) and A[esq] > A[i]):\n",
        "    maior = esq\n",
        "  else:\n",
        "    maior = i\n",
        "  if(dir < len(A) and A[dir] > A[maior]):\n",
        "    maior = dir\n",
        "  if maior != i:\n",
        "    A[i], A[maior] = A[maior], A[i]\n",
        "    max_heapfy(A, maior)\n",
        "\n",
        "def controi_heap(A):\n",
        "  for i in range(len(A)//2, -1, -1):\n",
        "    max_heapfy(A,i)\n",
        "\n",
        "def heap_sort(A):\n",
        "  controi_heap(A)\n",
        "  for i in range(len(A)-1, 0, -1):\n",
        "    A[0], A[i] = A[i], A[0]\n",
        "    m = len(A)"
      ],
      "metadata": {
        "id": "QDG6LZ1cz10F"
      },
      "execution_count": null,
      "outputs": []
    },
    {
      "cell_type": "code",
      "source": [
        "A = [16,11,10,14,7,9,3,2,8,1]\n",
        "controi_heap(A)"
      ],
      "metadata": {
        "id": "I1Qd33bs6MP5"
      },
      "execution_count": null,
      "outputs": []
    },
    {
      "cell_type": "code",
      "source": [
        "print(A)"
      ],
      "metadata": {
        "colab": {
          "base_uri": "https://localhost:8080/"
        },
        "id": "xcwQDy2W-ox7",
        "outputId": "c49de660-7606-4dff-aa6c-bd6a2b6bbc2b"
      },
      "execution_count": null,
      "outputs": [
        {
          "output_type": "stream",
          "name": "stdout",
          "text": [
            "[16, 14, 10, 11, 7, 9, 3, 2, 8, 1]\n"
          ]
        }
      ]
    },
    {
      "cell_type": "code",
      "source": [
        "A = [16,4,10,14,7,9,3,2,8,1]\n",
        "max_heapfy(A,1)\n",
        "print(A)"
      ],
      "metadata": {
        "colab": {
          "base_uri": "https://localhost:8080/"
        },
        "id": "rX_cH2m95HDt",
        "outputId": "26133bc1-33b9-440d-fba9-695cd823ad59"
      },
      "execution_count": null,
      "outputs": [
        {
          "output_type": "stream",
          "name": "stdout",
          "text": [
            "[16, 14, 10, 8, 7, 9, 3, 2, 4, 1]\n"
          ]
        }
      ]
    },
    {
      "cell_type": "markdown",
      "source": [
        "#Programação Dinâmica"
      ],
      "metadata": {
        "id": "GvdaPJEdT5vX"
      }
    },
    {
      "cell_type": "markdown",
      "source": [
        "##Fibonacci"
      ],
      "metadata": {
        "id": "NVFVU5XET_fH"
      }
    },
    {
      "cell_type": "markdown",
      "source": [
        "**Fibonacci com memorização. Esse algoritmo utiliza o princípio da programação dinâmica para o problema de calcular o n-ésimo número de Fibonacci. O algoritmo recursivo tem um tempo de $O(2^{n})$, mas com a programação dinâmica conseguimos uma complexidade bem melhor.**"
      ],
      "metadata": {
        "id": "RboGZ4oRUPKS"
      }
    },
    {
      "cell_type": "code",
      "source": [
        "def fibo_pd(n):\n",
        "  if n == 1 or n == 2:\n",
        "    return 1\n",
        "  else:\n",
        "    F = [0 for i in range(n)]\n",
        "    F[0] = 1\n",
        "    F[1] = 1\n",
        "    for i in range(2, n):\n",
        "      F[i] = F[i - 1] + F[i - 2]\n",
        "    return F[n - 1]\n"
      ],
      "metadata": {
        "id": "YkZS7LAGVAeM"
      },
      "execution_count": 5,
      "outputs": []
    },
    {
      "cell_type": "code",
      "source": [
        "print(fibo_pd(7))"
      ],
      "metadata": {
        "colab": {
          "base_uri": "https://localhost:8080/"
        },
        "id": "Tt2wJSZCc-Zp",
        "outputId": "a8aaed01-fb56-412c-abb3-4273512d76bb"
      },
      "execution_count": 16,
      "outputs": [
        {
          "output_type": "stream",
          "name": "stdout",
          "text": [
            "13\n"
          ]
        }
      ]
    },
    {
      "cell_type": "code",
      "source": [
        "def fibo_mem_prin(n):\n",
        "  if n == 1 or n == 2:\n",
        "    return 1\n",
        "  global F\n",
        "  F = [0 for i in range(n)]\n",
        "  F[0] = 1\n",
        "  F[1] = 1\n",
        "  for i in range(2, n):\n",
        "    F[i] = -1\n",
        "  return fibo_memo(n)\n",
        "\n",
        "def fibo_memo(n):\n",
        "  if F[n - 1] != -1:\n",
        "    return F[n - 1]\n",
        "  else:\n",
        "    F[n - 1] = fibo_memo(n - 1) + fibo_memo(n - 2)\n",
        "  return F[n - 1]\n"
      ],
      "metadata": {
        "id": "1cc25CIIWZjp"
      },
      "execution_count": null,
      "outputs": []
    },
    {
      "cell_type": "code",
      "source": [
        "print(fibo_mem_prin(6))"
      ],
      "metadata": {
        "colab": {
          "base_uri": "https://localhost:8080/"
        },
        "id": "7RXCHIvEWf29",
        "outputId": "94d6c803-86c5-4cbf-80a3-7218a3b6a3af"
      },
      "execution_count": 17,
      "outputs": [
        {
          "output_type": "stream",
          "name": "stdout",
          "text": [
            "8\n"
          ]
        }
      ]
    },
    {
      "cell_type": "markdown",
      "source": [
        "##Cortes de Hastes"
      ],
      "metadata": {
        "id": "-Q1Lsax8n9Zm"
      }
    },
    {
      "cell_type": "markdown",
      "source": [
        "**Hastes de aço são vendidas em pedaços de tamanho inteiro inteiro. As usinas produzem hastes longas, e os comerciantes cortam em pedaços para vender.**\n",
        "\n",
        "**Suponha que o preço de uma haste de tamanho $i$ esteja tabelado como $P_{i}$. Problema: Dada uma haste de tamanho $n$ e a tabela $P$ de preços, qual a melhor forma de cortar a haste para maximizar o preço da venda total?**\n",
        "\n",
        "**Versão simplificada: Qual o maior valor $Q_{n}$ que se pode obter de uma haste de tamanho $n$?**\n",
        "\n",
        "**Corta-se um primeiro pedaço de tamanho $i$ e o pedaço restante de tamanho $n - i$ do melhor jeito possível. O valor desse corte é:**\n",
        "\\begin{equation}\n",
        "Q_{n} = \\underset{1 \\leq i \\leq n }{\\text{max}} \\ \\{ P_{i} + Q_{n - i} \\}\n",
        "\\\n",
        "\\end{equation}\n",
        "\\begin{equation}\n",
        "Q_{0} = 0\n",
        "\\end{equation}\n"
      ],
      "metadata": {
        "id": "xmeZaC_joBE6"
      }
    },
    {
      "cell_type": "markdown",
      "source": [
        "**O algoritmo abaixo tem uma complexidade muito ruim, pois a equação de recorrência que o descreve tem a seguinte forma:**\n",
        "\\begin{equation}\n",
        "T(n) = 1 + \\sum_{i=0}^{n-1} T(i)\n",
        "\\end{equation}\n",
        "**Essa equação resulta em complexidade de $O(2^{n})$, o que torna esse algoritmo pra instâncias relativamente grandes impossível de ser executado.**"
      ],
      "metadata": {
        "id": "IXhUmVFNg_kg"
      }
    },
    {
      "cell_type": "code",
      "source": [
        "import sys\n",
        "def corta_haste(p, n):\n",
        "  if n == 0:\n",
        "    return 0\n",
        "  q = float('-inf')\n",
        "  for i in range(1, n+1):\n",
        "    q = max(q, p[i]+corta_haste(p, n - i))\n",
        "  return q"
      ],
      "metadata": {
        "id": "kNwmAXDXup5z"
      },
      "execution_count": 1,
      "outputs": []
    },
    {
      "cell_type": "code",
      "source": [
        "p = [0,3,4,7,8]\n",
        "print(corta_haste(p, 4))"
      ],
      "metadata": {
        "colab": {
          "base_uri": "https://localhost:8080/"
        },
        "id": "WbALA08Fg5tA",
        "outputId": "4dce11c2-a21b-4899-f239-1775a4f7bdec"
      },
      "execution_count": 2,
      "outputs": [
        {
          "output_type": "stream",
          "name": "stdout",
          "text": [
            "12\n"
          ]
        }
      ]
    },
    {
      "cell_type": "markdown",
      "source": [
        "**Por causa da complexidade alta do algoritmo acima, vamos utilizar programação dinâmica para melhorar o tempo de execução desse algoritmo. Primeiro vamos fazer um algoritmo recursivo e depois uma versão iterativa. Em ambos os casos, graças a ideia de memorização, não teremos que calcular a mesma instância várias vezes, por consequência, a complexidade de nossos algoritmos serão de $O(n^{2})$, muito melhor do que $O(2^{n})$ do algoritmo recursivo anterior.**"
      ],
      "metadata": {
        "id": "Tgz-nO7wlOyU"
      }
    },
    {
      "cell_type": "code",
      "source": [
        "# O vetor r vai funcionar como uma variável global\n",
        "def corta_haste_memo(p, n):\n",
        "  global r\n",
        "  r = [0 for i in range(n + 1)]\n",
        "  for i in range(1, n + 1):\n",
        "    r[i] = float('-inf')\n",
        "  return corta_haste_memo_rec(p, n)\n",
        "\n",
        "def corta_haste_memo_rec(p, n):\n",
        "  if r[n] >= 0:\n",
        "    return r[n]\n",
        "  else:\n",
        "    q = float('-inf')\n",
        "    for i in range(1, n+1):\n",
        "      q = max(q, p[i] + corta_haste_memo_rec(p, n-i))\n",
        "    r[n] = q\n",
        "    return q\n",
        "\n",
        "p = [0,3,4,7,8]\n",
        "print(corta_haste_memo(p, 4))"
      ],
      "metadata": {
        "colab": {
          "base_uri": "https://localhost:8080/"
        },
        "id": "ykw0dpwimK3o",
        "outputId": "52241692-36e3-49c0-8a42-2c4a87b4524a"
      },
      "execution_count": 9,
      "outputs": [
        {
          "output_type": "stream",
          "name": "stdout",
          "text": [
            "12\n"
          ]
        }
      ]
    }
  ],
  "metadata": {
    "colab": {
      "provenance": [],
      "authorship_tag": "ABX9TyPpB9OLOhkk1sW8cY+24lB8",
      "include_colab_link": true
    },
    "kernelspec": {
      "display_name": "Python 3",
      "name": "python3"
    },
    "language_info": {
      "name": "python"
    }
  },
  "nbformat": 4,
  "nbformat_minor": 0
}