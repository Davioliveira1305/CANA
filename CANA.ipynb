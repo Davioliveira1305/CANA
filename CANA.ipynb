{
  "cells": [
    {
      "cell_type": "markdown",
      "metadata": {
        "id": "view-in-github",
        "colab_type": "text"
      },
      "source": [
        "<a href=\"https://colab.research.google.com/github/Davioliveira1305/CANA/blob/main/CANA.ipynb\" target=\"_parent\"><img src=\"https://colab.research.google.com/assets/colab-badge.svg\" alt=\"Open In Colab\"/></a>"
      ]
    },
    {
      "cell_type": "markdown",
      "source": [
        "#Algoritmos de ordenação e de divisão e conquista"
      ],
      "metadata": {
        "id": "fa4SjPY_Thtv"
      }
    },
    {
      "cell_type": "markdown",
      "source": [
        "##Couting-Sort"
      ],
      "metadata": {
        "id": "xskG91PMT5oE"
      }
    },
    {
      "cell_type": "markdown",
      "source": [
        "**O Couting-Sort é um algoritmo de ordenação que só ordena números inteiros, em um intervalo de 0 a k. A partir dessa informação, o algoritmo consegue ter uma complexidade linear $O(n)$.**"
      ],
      "metadata": {
        "id": "onUvepKHUB9Z"
      }
    },
    {
      "cell_type": "code",
      "execution_count": 1,
      "metadata": {
        "id": "tV112nU4ErHP"
      },
      "outputs": [],
      "source": [
        "def counting_sort(A, k):\n",
        "  C = [0 for i in range(k+1)]\n",
        "  for j in range(0,len(A)):\n",
        "    C[A[j]] = C[A[j]] + 1\n",
        "  for i in range(1,k+1):\n",
        "    C[i] = C[i] + C[i-1]\n",
        "  print(C)"
      ]
    },
    {
      "cell_type": "code",
      "execution_count": 2,
      "metadata": {
        "colab": {
          "base_uri": "https://localhost:8080/"
        },
        "id": "gPsCRd9eFGm_",
        "outputId": "08e38949-7bee-4e6c-b105-8ff1cec556b9"
      },
      "outputs": [
        {
          "output_type": "stream",
          "name": "stdout",
          "text": [
            "[0, 1, 2, 2, 3, 4, 5, 5, 6, 6, 6, 7]\n"
          ]
        }
      ],
      "source": [
        "A = [6,4,2,8,1,11,5]\n",
        "counting_sort(A,11)"
      ]
    },
    {
      "cell_type": "code",
      "source": [
        "def counting_inter(A,k,a,b):\n",
        "  C = [0 for i in range(k+1)]\n",
        "  for j in range(0,len(A)):\n",
        "    C[A[j]] = C[A[j]] + 1\n",
        "  for i in range(1,k+1):\n",
        "    C[i] = C[i] + C[i-1]\n",
        "  if (C[a-1] == -1): return 0\n",
        "  return C[b] - C[a - 1]"
      ],
      "metadata": {
        "id": "AJaHHpo3x1F3"
      },
      "execution_count": 3,
      "outputs": []
    },
    {
      "cell_type": "code",
      "source": [
        "A = [5,6,3]\n",
        "print(counting_inter(A,6,1,2))"
      ],
      "metadata": {
        "colab": {
          "base_uri": "https://localhost:8080/"
        },
        "id": "j60LRV37yKd7",
        "outputId": "080c907b-185e-42f4-b890-65372500e5d8"
      },
      "execution_count": 4,
      "outputs": [
        {
          "output_type": "stream",
          "name": "stdout",
          "text": [
            "0\n"
          ]
        }
      ]
    },
    {
      "cell_type": "markdown",
      "metadata": {
        "id": "ZIf0dxUtSsxW"
      },
      "source": [
        "## Quick-Sort"
      ]
    },
    {
      "cell_type": "markdown",
      "source": [
        "**O Quick-Sort tem uma ideia de particiona o vetor apartir de uma chave, elementos menores ou iguais a chave ficarão à esquerda da chave e os maiores à direita da chave. Como essa partição pode variar, temos o caso em que essa partição gera um vetor com $n-1$ elementos, ocasionando em uma complexidade de $O(n^{2})$, mas em geral o tempo do Quick-Sort é $O(nlogn)$, isso pode ser demonstrado usando estatística.**"
      ],
      "metadata": {
        "id": "16_kwqXkVuW-"
      }
    },
    {
      "cell_type": "code",
      "execution_count": 5,
      "metadata": {
        "id": "L_sLpUq-SwDG"
      },
      "outputs": [],
      "source": [
        "  #Algoritmo que realiza a partição do vetor em torno de uma chave\n",
        "  def partition(A, p, r):\n",
        "    pivot = A[r]\n",
        "    i = p - 1\n",
        "    for j in range(p, r):\n",
        "      if A[j] <= pivot:\n",
        "        i = i + 1\n",
        "        A[i], A[j] = A[j], A[i]\n",
        "    A[i + 1], A[r] = A[r], A[i + 1]\n",
        "    return i + 1"
      ]
    },
    {
      "cell_type": "code",
      "source": [
        "B = [3,4,4,6,9]\n",
        "partition(B,0,4)"
      ],
      "metadata": {
        "colab": {
          "base_uri": "https://localhost:8080/"
        },
        "id": "9vaF-Z7rdbMI",
        "outputId": "f3b64b74-6082-4040-8802-e84604a6c79b"
      },
      "execution_count": 6,
      "outputs": [
        {
          "output_type": "execute_result",
          "data": {
            "text/plain": [
              "4"
            ]
          },
          "metadata": {},
          "execution_count": 6
        }
      ]
    },
    {
      "cell_type": "code",
      "execution_count": 7,
      "metadata": {
        "id": "_snKq4kLVjn9"
      },
      "outputs": [],
      "source": [
        "# Quick-Sort propriamente dito\n",
        "def quicksort(A,p,r):\n",
        "  while p <= r:\n",
        "    q = partition(A,p,r)\n",
        "    print(f'Vetor Particionado = {A}, p = {p}, r = {r}, q = {q}')\n",
        "    quicksort(A,p,q-1)\n",
        "    p = q + 1"
      ]
    },
    {
      "cell_type": "code",
      "execution_count": 8,
      "metadata": {
        "colab": {
          "base_uri": "https://localhost:8080/"
        },
        "id": "0o-v8owvUMIq",
        "outputId": "89ac1e8e-c15c-4d8a-93cc-5699d804d8e8"
      },
      "outputs": [
        {
          "output_type": "stream",
          "name": "stdout",
          "text": [
            "Vetor Particionado = [2, 3, 10, 5, 18, 6, 7], p = 0, r = 6, q = 1\n",
            "Vetor Particionado = [2, 3, 10, 5, 18, 6, 7], p = 0, r = 0, q = 0\n",
            "Vetor Particionado = [2, 3, 5, 6, 7, 10, 18], p = 2, r = 6, q = 4\n",
            "Vetor Particionado = [2, 3, 5, 6, 7, 10, 18], p = 2, r = 3, q = 3\n",
            "Vetor Particionado = [2, 3, 5, 6, 7, 10, 18], p = 2, r = 2, q = 2\n",
            "Vetor Particionado = [2, 3, 5, 6, 7, 10, 18], p = 5, r = 6, q = 6\n",
            "Vetor Particionado = [2, 3, 5, 6, 7, 10, 18], p = 5, r = 5, q = 5\n",
            "Saída com o vetor ordenado: [2, 3, 5, 6, 7, 10, 18]\n"
          ]
        }
      ],
      "source": [
        "A = [5,7,10,2,18,6,3]\n",
        "quicksort(A,0,6)\n",
        "print(f'Saída com o vetor ordenado: {A}')"
      ]
    },
    {
      "cell_type": "markdown",
      "source": [
        "##Merge-Sort"
      ],
      "metadata": {
        "id": "qTPLQXKVYxam"
      }
    },
    {
      "cell_type": "markdown",
      "source": [
        "**O coração do Merge-Sort é o algortimo intercala, que recebe um vetor A que tem a seguinte propriedade: as duas metades do vetor devem está ordenadas para o funcionamento do algortimo.**\n",
        "\n",
        "**Ex:**\n",
        "\n",
        "**- A = [7,8,9,1,2,3]**\n",
        "\n",
        "**A complexidade do Merge-Sort é $O(nlogn)$.**"
      ],
      "metadata": {
        "id": "LZhUIBL_azyG"
      }
    },
    {
      "cell_type": "code",
      "source": [
        "import sys\n",
        "def intercala(A, p, q, r):\n",
        "  n1 = q - p + 1\n",
        "  n2 = r - q\n",
        "  L = []\n",
        "  R = []\n",
        "  for i in range(1, n1+1):\n",
        "    L.append(A[p + i -1])\n",
        "  for j in range(1, n2+1):\n",
        "    R.append(A[q + j])\n",
        "  L.append(sys.maxsize)\n",
        "  R.append(sys.maxsize)\n",
        "  i = 0\n",
        "  j = 0\n",
        "  for k in range(p, r+1):\n",
        "    if(L[i] <= R[j]):\n",
        "      A[k] = L[i]\n",
        "      i = i + 1\n",
        "    else:\n",
        "      A[k] = R[j]\n",
        "      j = j + 1\n",
        "\n",
        "def merge_sort(A, p, r):\n",
        "  if p < r:\n",
        "    q = (p + r)//2\n",
        "    merge_sort(A, p, q)\n",
        "    merge_sort(A, q + 1, r)\n",
        "    intercala(A, p, q, r)"
      ],
      "metadata": {
        "id": "fkIjIE7oYzoB"
      },
      "execution_count": 9,
      "outputs": []
    },
    {
      "cell_type": "code",
      "source": [
        "A = [8,1,2,4,12,13,10,2,3]\n",
        "merge_sort(A,0,8)\n",
        "print(A)"
      ],
      "metadata": {
        "colab": {
          "base_uri": "https://localhost:8080/"
        },
        "id": "p6ovEGgUZgaX",
        "outputId": "d19d0a1c-8eff-46b4-b922-1b6721d53206"
      },
      "execution_count": 10,
      "outputs": [
        {
          "output_type": "stream",
          "name": "stdout",
          "text": [
            "[1, 2, 2, 3, 4, 8, 10, 12, 13]\n"
          ]
        }
      ]
    },
    {
      "cell_type": "markdown",
      "source": [
        "**Merge-Sort modificado para descobrir se um determinado vetor possui dois elementos que a soma resulte em um número x.**"
      ],
      "metadata": {
        "id": "ST-KFttfgr2-"
      }
    },
    {
      "cell_type": "code",
      "source": [
        "def intercala_mod(A, p, q, r, x):\n",
        "  n1 = q - p + 1\n",
        "  n2 = r - q\n",
        "  L = []\n",
        "  R = []\n",
        "  for i in range(1, n1+1):\n",
        "    L.append(A[p + i -1])\n",
        "  for j in range(1, n2+1):\n",
        "    R.append(A[q + j])\n",
        "  L.append(sys.maxsize)\n",
        "  R.append(sys.maxsize)\n",
        "  i = 0\n",
        "  j = 0\n",
        "  for k in range(p, r+1):\n",
        "    if(L[i] + R[j] == x): return True\n",
        "    if(L[i] <= R[j]):\n",
        "      A[k] = L[i]\n",
        "      i = i + 1\n",
        "    else:\n",
        "      A[k] = R[j]\n",
        "      j = j + 1\n",
        "\n",
        "\n",
        "\n",
        "def merge_sort_mod(A, p, r, x):\n",
        "  if p < r:\n",
        "    q = (p + r)//2\n",
        "    merge_sort_mod(A, p, q, x)\n",
        "    merge_sort_mod(A, q + 1, r, x)\n",
        "    existe = intercala_mod(A, p, q, r, x)\n",
        "    print(existe)\n",
        "    if(existe):\n",
        "      print(f'Existem dois elementos que somados dão {x}')\n",
        "  return None"
      ],
      "metadata": {
        "id": "WfwKPRrYg7iY"
      },
      "execution_count": 11,
      "outputs": []
    },
    {
      "cell_type": "code",
      "source": [
        "A = [8,1,2,4,12,13,10,2,3]\n",
        "print(merge_sort_mod(A,0,8,25))\n",
        "print(A)"
      ],
      "metadata": {
        "colab": {
          "base_uri": "https://localhost:8080/"
        },
        "id": "KugZDnz2iDtT",
        "outputId": "7710a86a-7bd2-4e10-f307-97730be70431"
      },
      "execution_count": 12,
      "outputs": [
        {
          "output_type": "stream",
          "name": "stdout",
          "text": [
            "None\n",
            "None\n",
            "None\n",
            "None\n",
            "None\n",
            "None\n",
            "None\n",
            "True\n",
            "Existem dois elementos que somados dão 25\n",
            "None\n",
            "[1, 2, 2, 3, 4, 8, 10, 10, 13]\n"
          ]
        }
      ]
    },
    {
      "cell_type": "markdown",
      "source": [
        "##Heap-Sort"
      ],
      "metadata": {
        "id": "oUFouH9jzzVd"
      }
    },
    {
      "cell_type": "markdown",
      "source": [
        "**O algoritmo Heap-Sort baseia-se na estrutura de dados heap. A complexidade do Heap-Sort é $O(nlogn)$.**"
      ],
      "metadata": {
        "id": "_8HJb3-pcb6O"
      }
    },
    {
      "cell_type": "code",
      "source": [
        "def max_heapfy(A, i):\n",
        "  esq = 2 * i + 1\n",
        "  dir = 2 * i + 2\n",
        "  if(esq < len(A) and A[esq] > A[i]):\n",
        "    maior = esq\n",
        "  else:\n",
        "    maior = i\n",
        "  if(dir < len(A) and A[dir] > A[maior]):\n",
        "    maior = dir\n",
        "  if maior != i:\n",
        "    A[i], A[maior] = A[maior], A[i]\n",
        "    max_heapfy(A, maior)\n",
        "\n",
        "def controi_heap(A):\n",
        "  for i in range(len(A)//2, -1, -1):\n",
        "    max_heapfy(A,i)\n",
        "\n",
        "def heap_sort(A):\n",
        "  controi_heap(A)\n",
        "  for i in range(len(A)-1, 0, -1):\n",
        "    A[0], A[i] = A[i], A[0]\n",
        "    m = len(A)"
      ],
      "metadata": {
        "id": "QDG6LZ1cz10F"
      },
      "execution_count": 13,
      "outputs": []
    },
    {
      "cell_type": "code",
      "source": [
        "A = [16,11,10,14,7,9,3,2,8,1]\n",
        "controi_heap(A)"
      ],
      "metadata": {
        "id": "I1Qd33bs6MP5"
      },
      "execution_count": 14,
      "outputs": []
    },
    {
      "cell_type": "code",
      "source": [
        "print(A)"
      ],
      "metadata": {
        "colab": {
          "base_uri": "https://localhost:8080/"
        },
        "id": "xcwQDy2W-ox7",
        "outputId": "aa238de2-e8a2-4bab-8f2a-ee8e2c7497a4"
      },
      "execution_count": 15,
      "outputs": [
        {
          "output_type": "stream",
          "name": "stdout",
          "text": [
            "[16, 14, 10, 11, 7, 9, 3, 2, 8, 1]\n"
          ]
        }
      ]
    },
    {
      "cell_type": "code",
      "source": [
        "A = [16,4,10,14,7,9,3,2,8,1]\n",
        "max_heapfy(A,1)\n",
        "print(A)"
      ],
      "metadata": {
        "colab": {
          "base_uri": "https://localhost:8080/"
        },
        "id": "rX_cH2m95HDt",
        "outputId": "1e52ae17-ade6-416e-ca3c-35f2788cac7e"
      },
      "execution_count": 16,
      "outputs": [
        {
          "output_type": "stream",
          "name": "stdout",
          "text": [
            "[16, 14, 10, 8, 7, 9, 3, 2, 4, 1]\n"
          ]
        }
      ]
    },
    {
      "cell_type": "markdown",
      "source": [
        "#Programação Dinâmica"
      ],
      "metadata": {
        "id": "GvdaPJEdT5vX"
      }
    },
    {
      "cell_type": "markdown",
      "source": [
        "##Fibonacci"
      ],
      "metadata": {
        "id": "NVFVU5XET_fH"
      }
    },
    {
      "cell_type": "markdown",
      "source": [
        "**Fibonacci com memorização. Esse algoritmo utiliza o princípio da programação dinâmica para o problema de calcular o n-ésimo número de Fibonacci. O algoritmo recursivo tem um tempo de $O(2^{n})$, mas com a programação dinâmica conseguimos uma complexidade bem melhor.**"
      ],
      "metadata": {
        "id": "RboGZ4oRUPKS"
      }
    },
    {
      "cell_type": "code",
      "source": [
        "def fibo_pd(n):\n",
        "  if n == 1 or n == 2:\n",
        "    return 1\n",
        "  else:\n",
        "    F = [0 for i in range(n)]\n",
        "    F[0] = 1\n",
        "    F[1] = 1\n",
        "    for i in range(2, n):\n",
        "      F[i] = F[i - 1] + F[i - 2]\n",
        "    return F[n - 1]\n"
      ],
      "metadata": {
        "id": "YkZS7LAGVAeM"
      },
      "execution_count": 17,
      "outputs": []
    },
    {
      "cell_type": "code",
      "source": [
        "print(fibo_pd(7))"
      ],
      "metadata": {
        "colab": {
          "base_uri": "https://localhost:8080/"
        },
        "id": "Tt2wJSZCc-Zp",
        "outputId": "d2bbc5e1-824b-48cc-bba1-364d122cd882"
      },
      "execution_count": 18,
      "outputs": [
        {
          "output_type": "stream",
          "name": "stdout",
          "text": [
            "13\n"
          ]
        }
      ]
    },
    {
      "cell_type": "code",
      "source": [
        "def fibo_mem_prin(n):\n",
        "  if n == 1 or n == 2:\n",
        "    return 1\n",
        "  global F\n",
        "  F = [0 for i in range(n)]\n",
        "  F[0] = 1\n",
        "  F[1] = 1\n",
        "  for i in range(2, n):\n",
        "    F[i] = -1\n",
        "  return fibo_memo(n)\n",
        "\n",
        "def fibo_memo(n):\n",
        "  if F[n - 1] != -1:\n",
        "    return F[n - 1]\n",
        "  else:\n",
        "    F[n - 1] = fibo_memo(n - 1) + fibo_memo(n - 2)\n",
        "  return F[n - 1]\n"
      ],
      "metadata": {
        "id": "1cc25CIIWZjp"
      },
      "execution_count": 19,
      "outputs": []
    },
    {
      "cell_type": "code",
      "source": [
        "print(fibo_mem_prin(6))"
      ],
      "metadata": {
        "colab": {
          "base_uri": "https://localhost:8080/"
        },
        "id": "7RXCHIvEWf29",
        "outputId": "2e5ecbd6-891d-4659-ed62-2f686e1f6fe0"
      },
      "execution_count": 20,
      "outputs": [
        {
          "output_type": "stream",
          "name": "stdout",
          "text": [
            "8\n"
          ]
        }
      ]
    },
    {
      "cell_type": "markdown",
      "source": [
        "##Cortes de Hastes"
      ],
      "metadata": {
        "id": "-Q1Lsax8n9Zm"
      }
    },
    {
      "cell_type": "markdown",
      "source": [
        "**Hastes de aço são vendidas em pedaços de tamanho inteiro inteiro. As usinas produzem hastes longas, e os comerciantes cortam em pedaços para vender.**\n",
        "\n",
        "**Suponha que o preço de uma haste de tamanho $i$ esteja tabelado como $P_{i}$. Problema: Dada uma haste de tamanho $n$ e a tabela $P$ de preços, qual a melhor forma de cortar a haste para maximizar o preço da venda total?**\n",
        "\n",
        "**Versão simplificada: Qual o maior valor $Q_{n}$ que se pode obter de uma haste de tamanho $n$?**\n",
        "\n",
        "**Corta-se um primeiro pedaço de tamanho $i$ e o pedaço restante de tamanho $n - i$ do melhor jeito possível. O valor desse corte é:**\n",
        "\\begin{equation}\n",
        "Q_{n} = \\underset{1 \\leq i \\leq n }{\\text{max}} \\ \\{ P_{i} + Q_{n - i} \\}\n",
        "\\\n",
        "\\end{equation}\n",
        "\\begin{equation}\n",
        "Q_{0} = 0\n",
        "\\end{equation}\n"
      ],
      "metadata": {
        "id": "xmeZaC_joBE6"
      }
    },
    {
      "cell_type": "markdown",
      "source": [
        "**O algoritmo abaixo tem uma complexidade muito ruim, pois a equação de recorrência que o descreve tem a seguinte forma:**\n",
        "\\begin{equation}\n",
        "T(n) = 1 + \\sum_{i=0}^{n-1} T(i)\n",
        "\\end{equation}\n",
        "**Essa equação resulta em complexidade de $O(2^{n})$, o que torna esse algoritmo pra instâncias relativamente grandes impossível de ser executado.**"
      ],
      "metadata": {
        "id": "IXhUmVFNg_kg"
      }
    },
    {
      "cell_type": "code",
      "source": [
        "import sys\n",
        "def corta_haste(p, n):\n",
        "  if n == 0:\n",
        "    return 0\n",
        "  q = float('-inf')\n",
        "  for i in range(1, n+1):\n",
        "    q = max(q, p[i]+corta_haste(p, n - i))\n",
        "  return q"
      ],
      "metadata": {
        "id": "kNwmAXDXup5z"
      },
      "execution_count": 21,
      "outputs": []
    },
    {
      "cell_type": "code",
      "source": [
        "p = [0,5,8,9]\n",
        "print(corta_haste(p, 3))"
      ],
      "metadata": {
        "colab": {
          "base_uri": "https://localhost:8080/"
        },
        "id": "WbALA08Fg5tA",
        "outputId": "1c41f05c-9290-41a1-8090-4a6e5698c1a6"
      },
      "execution_count": 22,
      "outputs": [
        {
          "output_type": "stream",
          "name": "stdout",
          "text": [
            "15\n"
          ]
        }
      ]
    },
    {
      "cell_type": "markdown",
      "source": [
        "**Por causa da complexidade alta do algoritmo acima, vamos utilizar programação dinâmica para melhorar o tempo de execução desse algoritmo. Primeiro vamos fazer um algoritmo recursivo e depois uma versão iterativa. Em ambos os casos, graças a ideia de memorização, não teremos que calcular a mesma instância várias vezes, por consequência, a complexidade de nossos algoritmos serão de $O(n^{2})$, muito melhor do que $O(2^{n})$ do algoritmo recursivo anterior.**"
      ],
      "metadata": {
        "id": "Tgz-nO7wlOyU"
      }
    },
    {
      "cell_type": "code",
      "source": [
        "# O vetor r vai funcionar como uma variável global\n",
        "def corta_haste_memo(p, n):\n",
        "  global r\n",
        "  r = [0 for i in range(n + 1)]\n",
        "  for i in range(1, n + 1):\n",
        "    r[i] = float('-inf')\n",
        "  return corta_haste_memo_rec(p, n)\n",
        "\n",
        "# Algoritmo recursivo\n",
        "def corta_haste_memo_rec(p, n):\n",
        "  if r[n] >= 0:\n",
        "    return r[n]\n",
        "  else:\n",
        "    q = float('-inf')\n",
        "    for i in range(1, n+1):\n",
        "      q = max(q, p[i] + corta_haste_memo_rec(p, n-i))\n",
        "    r[n] = q\n",
        "    return q"
      ],
      "metadata": {
        "id": "ykw0dpwimK3o"
      },
      "execution_count": 23,
      "outputs": []
    },
    {
      "cell_type": "code",
      "source": [
        "p = [0,5,8,9,11]\n",
        "print(corta_haste_memo(p, 4))"
      ],
      "metadata": {
        "colab": {
          "base_uri": "https://localhost:8080/"
        },
        "id": "2B9r3gj08TF0",
        "outputId": "aee822f1-ca3b-41b9-a019-cc04f55a6dd7"
      },
      "execution_count": 24,
      "outputs": [
        {
          "output_type": "stream",
          "name": "stdout",
          "text": [
            "20\n"
          ]
        }
      ]
    },
    {
      "cell_type": "markdown",
      "source": [
        "##Problema de Edição"
      ],
      "metadata": {
        "id": "Q6uEN9QcpmF-"
      }
    },
    {
      "cell_type": "markdown",
      "source": [
        "**Dados duas cadeias: $$X = x_{1} x_{2} .... x{n}$$  $$ Y = y_{1} y_{2} .... y_{m}$$ Qual a similaridade entre elas? Há critérios distintos?**\n",
        "- Uma ser subcadeia estrita da outra. Isso significa definir, por exemplo $i$, $j$ em $Y$ tal que $x_{1} = y_{i}$,  $x_{2}=y_{i+1}$, ...., $x_{m} = y_{j}$.\n",
        "- Verificar o número mínimo de operações de edição para tomar uma cadeia na outra.\n",
        "- Determinar o tamanho da maior subsequência comum entre elas. Ou seja, encontrar o tamanho da maior cadeia $Z$, tal que $Z$ é subcadeia (não estrita) de $X$ e $Y$.\n",
        "\n",
        "**Entrada: Duas cadeias $X = \\left[ x_{1}, x_{2}, ..., x_{m} \\right] $ e $Y = \\left[  y_{1}, ..., y_{n} \\right]$.**\n",
        "\n",
        "**Saída: O número mínimo de operações de edições para transformar $X$ em $Y$, onde as operações possíveis, são, cada uma com custo unitário:**\n",
        "- Inserção de espaço em $X$;\n",
        "- Inserção de espaço em $Y$;\n",
        "- Remoção dos caracteres de $X$ e $Y$, pois são distintos, com $x_{i} \\neq y_{j}$\n",
        "\n"
      ],
      "metadata": {
        "id": "i-vzPpS0psNM"
      }
    },
    {
      "cell_type": "code",
      "source": [
        "def dif(X, Y , i, j):\n",
        "  if (X[i] != Y[j]): return 1\n",
        "  return 0\n",
        "\n",
        "def pd_edicao(X, Y):\n",
        "  E = [[0 for _ in range(len(Y)+1)] for _ in range(len(X)+1)]\n",
        "  for i in range(len(Y) + 1):\n",
        "    E[0][i] = i\n",
        "  for i in range(1,len(X) + 1):\n",
        "    E[i][0] = i\n",
        "  for i in range(len(Y) + 1):\n",
        "\n",
        "  for i in range(1, len(X) + 1):\n",
        "    for j in range(1, len(Y) + 1):\n",
        "      E[i][j] = min(1 + E[i-1][j], 1 + E[i][j-1], dif(X,Y,i-1,j-1) + E[i-1][j-1])\n",
        "  return E[len(X)][len(Y)]\n"
      ],
      "metadata": {
        "colab": {
          "base_uri": "https://localhost:8080/"
        },
        "id": "ECglkEkp8PTM",
        "outputId": "9ef59e17-a6e5-454e-be84-f9224ce1855c"
      },
      "execution_count": 38,
      "outputs": [
        {
          "output_type": "stream",
          "name": "stdout",
          "text": [
            "1\n"
          ]
        }
      ]
    },
    {
      "cell_type": "code",
      "source": [
        "X = ['A', 'B']\n",
        "Y = ['A','C']\n",
        "print(pd_edicao(X,Y))"
      ],
      "metadata": {
        "id": "oLFNa_yvfwkD"
      },
      "execution_count": null,
      "outputs": []
    }
  ],
  "metadata": {
    "colab": {
      "provenance": [],
      "authorship_tag": "ABX9TyP70KfMEcI/zvqbOLuwrM5j",
      "include_colab_link": true
    },
    "kernelspec": {
      "display_name": "Python 3",
      "name": "python3"
    },
    "language_info": {
      "name": "python"
    }
  },
  "nbformat": 4,
  "nbformat_minor": 0
}